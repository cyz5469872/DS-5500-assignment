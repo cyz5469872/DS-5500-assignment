{
 "cells": [
  {
   "cell_type": "code",
   "execution_count": 17,
   "metadata": {},
   "outputs": [],
   "source": [
    "import plotly\n",
    "import plotly.plotly as py\n",
    "import plotly.graph_objs as go\n",
    "import pandas as pd\n",
    "import numpy as np\n",
    "plotly.tools.set_credentials_file(username='cyz5469872', api_key='7txIsHvRhrZHsZiRNmJY')"
   ]
  },
  {
   "cell_type": "code",
   "execution_count": 2,
   "metadata": {
    "collapsed": true
   },
   "outputs": [],
   "source": [
    "# load data into workspace\n",
    "stock_price=pd.read_csv(\"C:/Users/yzcvo/Desktop/DS5500/plotly/prices.csv\")"
   ]
  },
  {
   "cell_type": "markdown",
   "metadata": {},
   "source": [
    "step:4\n",
    "date:value columns\n",
    "symbol:value columns\n",
    "open:value columns\n",
    "close:value columns\n",
    "low:value columns\n",
    "high:value columns\n",
    "volume:value columns\n",
    "\n",
    "justify:According to Munzner's book,in a flat table the key must have no duplicate [page 34 in Munzner's book,chapter 2.6.1.1].And I find both data column and symbol column all have duplicate values,so they are not keys.The rest five columns are all quantitative columns and they  still have duplicate value.So they are not key,just value columns.\n",
    "The possible key may be the combination of data and symbol column."
   ]
  },
  {
   "cell_type": "markdown",
   "metadata": {},
   "source": [
    "Step 5:\n",
    "I come up with a interesting task about discovering the trend of a certain stock price.In this task the action will be derive and discover the dataset,and target will be the trend of stock price(open,end,high and low). [slide page 17,lecture5-tasks]"
   ]
  },
  {
   "cell_type": "markdown",
   "metadata": {},
   "source": [
    "Step 6:\n",
    "To visualize the task ,I plan to use candlestick charts and line plots to encode the data.\n",
    "\n",
    "Candlestick chart:\n",
    "The candlestick chat is specialized in dealing with financial data.This chart will encode five different columns,they are date, open,high,low and close.This plot use lines as visual encoding and use vertical position as channels.\n",
    "\n",
    "Line plot:\n",
    "In this plot I will first derive the original dataset by generating a new column called \"average stock price\".This column is the average of high price and low price and I will use this column to represent stock price.This plot will encode date and average stock price columns.The marks are points and the channels are vertical position."
   ]
  },
  {
   "cell_type": "code",
   "execution_count": 18,
   "metadata": {},
   "outputs": [
    {
     "data": {
      "text/html": [
       "<iframe id=\"igraph\" scrolling=\"no\" style=\"border:none;\" seamless=\"seamless\" src=\"https://plot.ly/~cyz5469872/2.embed\" height=\"525px\" width=\"100%\"></iframe>"
      ],
      "text/plain": [
       "<plotly.tools.PlotlyDisplay object>"
      ]
     },
     "execution_count": 18,
     "metadata": {},
     "output_type": "execute_result"
    }
   ],
   "source": [
    "# step 7:candlestick plot\n",
    "from datetime import datetime\n",
    "# filter the data with symbol=WAT\n",
    "WAT_price=stock_price.query('symbol==\"WAT\"')\n",
    "# generate data for plot candelstick plot\n",
    "trace = go.Ohlc(x=WAT_price['date'],\n",
    "                open=WAT_price['open'],\n",
    "                high=WAT_price['high'],\n",
    "                low=WAT_price['low'],\n",
    "                close=WAT_price['close'])\n",
    "data = [trace]\n",
    "# generate x-axis,y-axis and title\n",
    "layout = go.Layout(title='WAT stock price trend in candle stick chart',xaxis=dict(title='date'),yaxis=dict(title='Stock price'))\n",
    "# combine data and layout into a dictionary\n",
    "fig = dict(data=data, layout=layout)\n",
    "py.iplot(fig, filename='simple_candlestick')"
   ]
  },
  {
   "cell_type": "markdown",
   "metadata": {},
   "source": [
    "In this plot I choose the candlestick chart as visual encoding.In this plot the x-axis reresent the time and the y-axis looks like a box and users and easily find the start,end,high price and low price for a certain day.It also has a slide bar in the buttom can let user choose a certain period of time to observe the detail of stock price.\n",
    "\n",
    "In this plot we can find this WAT stock is growing steadily from Jan 2010 to Dec 2016.So that might imply this enterpraise has a promising future and I would like to suggest my customer perchase this stock if I were the broker.\n",
    "\n",
    "I think the most important thing for users interested in stock market is to find a stock with huge potential and make a fortune.\n",
    "So my task is to discover not only the price but also the trend for a certain stock. The candle stick chart is a professional plot because it not only includes all information for a stock,it also use color as a channel to tell users how the stock price changed,Green means profit and red means loss."
   ]
  },
  {
   "cell_type": "code",
   "execution_count": 13,
   "metadata": {},
   "outputs": [
    {
     "name": "stderr",
     "output_type": "stream",
     "text": [
      "C:\\anaconda\\lib\\site-packages\\ipykernel_launcher.py:5: SettingWithCopyWarning:\n",
      "\n",
      "\n",
      "A value is trying to be set on a copy of a slice from a DataFrame.\n",
      "Try using .loc[row_indexer,col_indexer] = value instead\n",
      "\n",
      "See the caveats in the documentation: http://pandas.pydata.org/pandas-docs/stable/indexing.html#indexing-view-versus-copy\n",
      "\n"
     ]
    },
    {
     "name": "stdout",
     "output_type": "stream",
     "text": [
      "High five! You successfully sent some data to your account on plotly. View your plot in your browser at https://plot.ly/~cyz5469872/0 or inside your plot.ly account where it is named 'basic-line'\n"
     ]
    },
    {
     "data": {
      "text/html": [
       "<iframe id=\"igraph\" scrolling=\"no\" style=\"border:none;\" seamless=\"seamless\" src=\"https://plot.ly/~cyz5469872/0.embed\" height=\"525px\" width=\"100%\"></iframe>"
      ],
      "text/plain": [
       "<plotly.tools.PlotlyDisplay object>"
      ]
     },
     "execution_count": 13,
     "metadata": {},
     "output_type": "execute_result"
    }
   ],
   "source": [
    "# step 7:line plot \n",
    "# filter the data with symbol=WAT\n",
    "WAT_price=stock_price.query('symbol==\"WAT\"')\n",
    "# calculate the average between low and high\n",
    "WAT_price['average_stock_price']=(WAT_price['high']+WAT_price['low'])/2\n",
    "# \n",
    "trace = go.Scatter(x = WAT_price['date'],y = WAT_price['average_stock_price'])\n",
    "data = [trace]\n",
    "# generate x-axis,y-axis and title\n",
    "layout = go.Layout(title='WAT stock price trend in line plot',xaxis=dict(title='date'),yaxis=dict(title='average stock price'))\n",
    "# combine data and layout into a dictionary\n",
    "fig = dict(data=data, layout=layout)\n",
    "py.iplot(fig, filename='basic-line')"
   ]
  },
  {
   "cell_type": "markdown",
   "metadata": {
    "collapsed": true
   },
   "source": [
    "In this plot I choose the line chart as visual encoding.In this plot the x-axis reresent the time and the y-axis represent today's average stock price.\n",
    "\n",
    "In this plot we can find this WAT stock is growing steadily from Jan 2010 to Dec 2016.So that might imply this enterpraise has a promising future and I would like to suggest my customer perchase this stock if I were the broker.\n",
    "\n",
    "I think this plot is not as powerful as the candlestick chart.This plot can show the trend of stock price but it fails to provide detail information might be critical to users.However,it is much more simple than the candlestick chart and it can easily be understood."
   ]
  }
 ],
 "metadata": {
  "kernelspec": {
   "display_name": "Python 3",
   "language": "python",
   "name": "python3"
  },
  "language_info": {
   "codemirror_mode": {
    "name": "ipython",
    "version": 3
   },
   "file_extension": ".py",
   "mimetype": "text/x-python",
   "name": "python",
   "nbconvert_exporter": "python",
   "pygments_lexer": "ipython3",
   "version": "3.6.3"
  }
 },
 "nbformat": 4,
 "nbformat_minor": 2
}
